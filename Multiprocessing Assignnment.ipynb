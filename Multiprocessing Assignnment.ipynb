{
 "cells": [
  {
   "cell_type": "markdown",
   "id": "f1030672-be7d-416e-91a8-d38fa12bf9bc",
   "metadata": {},
   "source": [
    "# Multiprocessing Assignment"
   ]
  },
  {
   "cell_type": "markdown",
   "id": "5129e087-bc95-4fd1-9a87-20ce12cf30c8",
   "metadata": {},
   "source": [
    "Q1. What is multiprocessing in python? Why is it useful?"
   ]
  },
  {
   "cell_type": "markdown",
   "id": "a0a120e9-3d4f-4eab-80a3-2a4d133b089b",
   "metadata": {},
   "source": [
    "\n",
    "Multiprocessing in Python allows running multiple tasks simultaneously, utilizing multiple CPU cores. It boosts performance for CPU-intensive tasks, enables concurrent execution for I/O-bound operations, ensures isolation between processes, and enhances fault tolerance."
   ]
  },
  {
   "cell_type": "markdown",
   "id": "8cd439df-94cb-438d-91c5-18a7a4ea4247",
   "metadata": {},
   "source": [
    "Q2. What are the differences between multiprocessing and multithreading?"
   ]
  },
  {
   "cell_type": "markdown",
   "id": "0d09cb95-c7e7-43f3-aaab-96d2597414f6",
   "metadata": {},
   "source": [
    "multiprocessing involves running multiple processes concurrently, each with its own memory space, while multithreading involves running multiple threads within a single process, sharing memory. Multiprocessing is more suited for CPU-bound tasks, offers better parallelism and isolation, but incurs higher overhead. Multithreading is better for I/O-bound tasks, has lower overhead, but can suffer from issues like race conditions and requires careful synchronization."
   ]
  },
  {
   "cell_type": "markdown",
   "id": "d1d73e87-5ddc-4f5d-af4e-262b6984d899",
   "metadata": {},
   "source": [
    "Q3. Write a python code to create a process using the multiprocessing module."
   ]
  },
  {
   "cell_type": "code",
   "execution_count": 1,
   "id": "c13487f1-c796-4a34-b739-d0136ad503f1",
   "metadata": {},
   "outputs": [
    {
     "name": "stdout",
     "output_type": "stream",
     "text": [
      "Process ID: 301\n",
      "Parent process ID: 165\n",
      "Main process ID: 165\n"
     ]
    }
   ],
   "source": [
    "import multiprocessing\n",
    "import os\n",
    "\n",
    "def worker():\n",
    "    print(\"Process ID:\", os.getpid())\n",
    "    print(\"Parent process ID:\", os.getppid())\n",
    "\n",
    "if __name__ == \"__main__\":\n",
    "    process = multiprocessing.Process(target=worker)\n",
    "    process.start()\n",
    "    process.join()\n",
    "    print(\"Main process ID:\", os.getpid())\n"
   ]
  },
  {
   "cell_type": "markdown",
   "id": "e30d5364-a61d-42e2-9085-91ebdf58255d",
   "metadata": {},
   "source": [
    "Q4. What is a multiprocessing pool in python? Why is it used?"
   ]
  },
  {
   "cell_type": "markdown",
   "id": "bce89fa3-f4c1-4e91-9061-a6ea7654eea0",
   "metadata": {},
   "source": [
    "\n",
    "A multiprocessing pool in Python is a construct provided by the multiprocessing module that manages a pool of worker processes. It's used to distribute tasks across multiple processes efficiently. The pool allows you to parallelize the execution of a function across a specified number of worker processes, enabling concurrent execution and efficient utilization of CPU cores.\n",
    "\n",
    "\n",
    "\n",
    "\n"
   ]
  },
  {
   "cell_type": "markdown",
   "id": "08c176d4-6f76-424e-b7fe-473a74be69b6",
   "metadata": {},
   "source": [
    "Q5. How can we create a pool of worker processes in python using the multiprocessing module?"
   ]
  },
  {
   "cell_type": "code",
   "execution_count": 2,
   "id": "deb83216-7793-4365-9d43-6e71a9419868",
   "metadata": {},
   "outputs": [
    {
     "name": "stdout",
     "output_type": "stream",
     "text": [
      "Results: [0, 1, 4, 9, 16, 25, 36, 49, 64, 81]\n"
     ]
    }
   ],
   "source": [
    "import multiprocessing\n",
    "\n",
    "\n",
    "def worker_function(x):\n",
    "    return x * x\n",
    "\n",
    "if __name__ == \"__main__\":\n",
    "    # Create a Pool with 4 worker processes\n",
    "    with multiprocessing.Pool(processes=4) as pool:\n",
    "        # Map the worker function to a list of inputs\n",
    "        results = pool.map(worker_function, range(10))\n",
    "    \n",
    "    print(\"Results:\", results)\n"
   ]
  },
  {
   "cell_type": "markdown",
   "id": "b19380a7-4b9c-4f1d-982f-1bd4f63254de",
   "metadata": {},
   "source": [
    "Q6. Write a python program to create 4 processes, each process should print a different number using the\n",
    "multiprocessing module in python."
   ]
  },
  {
   "cell_type": "code",
   "execution_count": 3,
   "id": "cd9ff1f2-0be8-4a83-bc00-14b81b4ebee7",
   "metadata": {},
   "outputs": [
    {
     "name": "stdout",
     "output_type": "stream",
     "text": [
      "Process Process-6Process  prints:Process-7  Process1prints:\n",
      "  Process-82 \n",
      "prints:Process 3 \n",
      "Process-9 prints: 4\n"
     ]
    }
   ],
   "source": [
    "\n",
    "def print_number(number):\n",
    "    print(\"Process\", multiprocessing.current_process().name, \"prints:\", number)\n",
    "\n",
    "if __name__ == \"__main__\":\n",
    "    # Create 4 processes, each printing a different number\n",
    "    p1 = multiprocessing.Process(target=print_number, args=(1,))\n",
    "    p2 = multiprocessing.Process(target=print_number, args=(2,))\n",
    "    p3 = multiprocessing.Process(target=print_number, args=(3,))\n",
    "    p4 = multiprocessing.Process(target=print_number, args=(4,))\n",
    "    \n",
    "    # Start all processes\n",
    "    p1.start()\n",
    "    p2.start()\n",
    "    p3.start()\n",
    "    p4.start()\n",
    "    \n",
    "    # Wait for all processes to finish\n",
    "    p1.join()\n",
    "    p2.join()\n",
    "    p3.join()\n",
    "    p4.join()\n"
   ]
  },
  {
   "cell_type": "code",
   "execution_count": null,
   "id": "35326e75-fa70-4a8e-9317-b6ad57fb46fb",
   "metadata": {},
   "outputs": [],
   "source": []
  }
 ],
 "metadata": {
  "kernelspec": {
   "display_name": "Python 3 (ipykernel)",
   "language": "python",
   "name": "python3"
  },
  "language_info": {
   "codemirror_mode": {
    "name": "ipython",
    "version": 3
   },
   "file_extension": ".py",
   "mimetype": "text/x-python",
   "name": "python",
   "nbconvert_exporter": "python",
   "pygments_lexer": "ipython3",
   "version": "3.10.8"
  }
 },
 "nbformat": 4,
 "nbformat_minor": 5
}
